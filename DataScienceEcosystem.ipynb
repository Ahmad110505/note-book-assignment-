{
 "cells": [
  {
   "cell_type": "markdown",
   "id": "18418e49-c18f-4469-8d80-eea7484e7721",
   "metadata": {},
   "source": [
    "# Datascience tools and ecosystems "
   ]
  },
  {
   "cell_type": "markdown",
   "id": "80dd286b-3733-47b9-ac2e-b89617944b9e",
   "metadata": {},
   "source": [
    "In this notebook, Data Science Tools and Ecosystem are summarized."
   ]
  },
  {
   "cell_type": "markdown",
   "id": "2f8afa37-8bf8-4519-9ac1-514ab1433683",
   "metadata": {},
   "source": [
    "some the mainly used languages in data science are: \n",
    "1. python\n",
    "2. sql\n",
    "3. R\n",
    "   "
   ]
  },
  {
   "cell_type": "markdown",
   "id": "db9dde07-d836-4759-b667-fd6060a28aef",
   "metadata": {},
   "source": [
    "some of the main used libraries in data science: \n",
    "1. pandas for cleaning data sets (python)\n",
    "2. ggplot for data visualization (R)\n",
    "3. matplotlib and seaborn for visualization (python)"
   ]
  },
  {
   "cell_type": "markdown",
   "id": "57df34cd-9100-4660-88cf-732bda8c1ae8",
   "metadata": {},
   "source": [
    "the main data science tools used in data science: \n",
    "1. apache spark\n",
    "2. hadoop\n",
    "3. google cloud "
   ]
  },
  {
   "cell_type": "markdown",
   "id": "c4a550c0-d040-4acf-a2b3-af7fb4a00055",
   "metadata": {},
   "source": [
    "### below are some arithemitic expressions in python "
   ]
  },
  {
   "cell_type": "code",
   "execution_count": 3,
   "id": "f767e168-6cc1-4cb6-b1e0-8c0be724f01f",
   "metadata": {},
   "outputs": [
    {
     "name": "stdout",
     "output_type": "stream",
     "text": [
      "4\n"
     ]
    }
   ],
   "source": [
    "x = 1\n",
    "y = 3 \n",
    "z = x + y\n",
    "print(z)"
   ]
  },
  {
   "cell_type": "code",
   "execution_count": 4,
   "id": "b5ed6fb7-0ed8-4291-844f-d2391cc6cac5",
   "metadata": {},
   "outputs": [
    {
     "data": {
      "text/plain": [
       "1"
      ]
     },
     "execution_count": 4,
     "metadata": {},
     "output_type": "execute_result"
    }
   ],
   "source": [
    "2 - 1 "
   ]
  },
  {
   "cell_type": "code",
   "execution_count": 5,
   "id": "2d1f6aad-8ad2-4190-bfad-3f09b0471048",
   "metadata": {},
   "outputs": [
    {
     "data": {
      "text/plain": [
       "17"
      ]
     },
     "execution_count": 5,
     "metadata": {},
     "output_type": "execute_result"
    }
   ],
   "source": [
    "(3*4) + 5 \n",
    "# this is a simple code to multiply then add integers "
   ]
  },
  {
   "cell_type": "code",
   "execution_count": 6,
   "id": "847bd91a-07af-44e8-b07a-9db0d67cff2a",
   "metadata": {},
   "outputs": [
    {
     "name": "stdout",
     "output_type": "stream",
     "text": [
      "3.3333333333333335\n"
     ]
    }
   ],
   "source": [
    "mins = 200 \n",
    "hrs = mins / 60 \n",
    "print(hrs)  "
   ]
  },
  {
   "cell_type": "markdown",
   "id": "1e421300-8c85-470f-9e89-0c2444100b3e",
   "metadata": {},
   "source": [
    "**Objectives:**\n",
    "\n",
    "- List popular languages for Data Science.\n",
    "- Describe the Data Scientist’s tool kit, including libraries, packages, datasets, machine learning models, and big data tools.\n",
    "- Utilize languages commonly used by data scientists like Python, R, and SQL.\n",
    "- Demonstrate working knowledge of tools such as Jupyter Notebooks and RStudio and utilize their various features.\n",
    "- Create and manage source code for data science using Git repositories and GitHub.\n"
   ]
  },
  {
   "cell_type": "markdown",
   "id": "6f4c59f4-8e99-47e4-806e-d8ac4a5f0200",
   "metadata": {},
   "source": [
    "## Author\n",
    "Ahmad Awadi "
   ]
  },
  {
   "cell_type": "code",
   "execution_count": null,
   "id": "f5b7a246-e3b9-46d5-846e-a06cf17f3d06",
   "metadata": {},
   "outputs": [],
   "source": []
  }
 ],
 "metadata": {
  "kernelspec": {
   "display_name": "Python 3 (ipykernel)",
   "language": "python",
   "name": "python3"
  },
  "language_info": {
   "codemirror_mode": {
    "name": "ipython",
    "version": 3
   },
   "file_extension": ".py",
   "mimetype": "text/x-python",
   "name": "python",
   "nbconvert_exporter": "python",
   "pygments_lexer": "ipython3",
   "version": "3.12.4"
  }
 },
 "nbformat": 4,
 "nbformat_minor": 5
}
